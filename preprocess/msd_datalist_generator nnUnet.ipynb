{
 "cells": [
  {
   "attachments": {},
   "cell_type": "markdown",
   "metadata": {
    "pycharm": {
     "name": "#%% md\n"
    }
   },
   "source": [
    "Copyright (c) MONAI Consortium  \n",
    "Licensed under the Apache License, Version 2.0 (the \"License\");  \n",
    "you may not use this file except in compliance with the License.  \n",
    "You may obtain a copy of the License at  \n",
    "&nbsp;&nbsp;&nbsp;&nbsp;http://www.apache.org/licenses/LICENSE-2.0  \n",
    "Unless required by applicable law or agreed to in writing, software  \n",
    "distributed under the License is distributed on an \"AS IS\" BASIS,  \n",
    "WITHOUT WARRANTIES OR CONDITIONS OF ANY KIND, either express or implied.  \n",
    "See the License for the specific language governing permissions and  \n",
    "limitations under the License. \n",
    "\n",
    "# Datalist Generator"
   ]
  },
  {
   "attachments": {},
   "cell_type": "markdown",
   "metadata": {
    "pycharm": {
     "name": "#%% md\n"
    }
   },
   "source": [
    "## Setup environment"
   ]
  },
  {
   "cell_type": "code",
   "execution_count": 1,
   "metadata": {
    "pycharm": {
     "is_executing": true,
     "name": "#%%\n"
    }
   },
   "outputs": [
    {
     "name": "stdout",
     "output_type": "stream",
     "text": [
      "2023-11-28 11:39:10.116338: I tensorflow/core/platform/cpu_feature_guard.cc:182] This TensorFlow binary is optimized to use available CPU instructions in performance-critical operations.\n",
      "To enable the following instructions: AVX2 FMA, in other operations, rebuild TensorFlow with the appropriate compiler flags.\n",
      "2023-11-28 11:39:10.975821: W tensorflow/compiler/tf2tensorrt/utils/py_utils.cc:38] TF-TRT Warning: Could not find TensorRT\n"
     ]
    }
   ],
   "source": [
    "!python3 -c \"import monai\" || pip install -q \"monai\""
   ]
  },
  {
   "attachments": {},
   "cell_type": "markdown",
   "metadata": {
    "pycharm": {
     "name": "#%% md\n"
    }
   },
   "source": [
    "## Setup imports"
   ]
  },
  {
   "cell_type": "code",
   "execution_count": 2,
   "metadata": {
    "pycharm": {
     "name": "#%%\n"
    }
   },
   "outputs": [
    {
     "name": "stderr",
     "output_type": "stream",
     "text": [
      "2023-11-28 11:39:15.623811: I tensorflow/core/platform/cpu_feature_guard.cc:182] This TensorFlow binary is optimized to use available CPU instructions in performance-critical operations.\n",
      "To enable the following instructions: AVX2 FMA, in other operations, rebuild TensorFlow with the appropriate compiler flags.\n",
      "2023-11-28 11:39:16.551241: W tensorflow/compiler/tf2tensorrt/utils/py_utils.cc:38] TF-TRT Warning: Could not find TensorRT\n"
     ]
    },
    {
     "name": "stdout",
     "output_type": "stream",
     "text": [
      "MONAI version: 1.3.dev2337\n",
      "Numpy version: 1.24.3\n",
      "Pytorch version: 2.0.1+cu117\n",
      "MONAI flags: HAS_EXT = False, USE_COMPILED = False, USE_META_DICT = False\n",
      "MONAI rev id: 57e24b54faa4e7aea1b2d28f9408311fd34543b1\n",
      "MONAI __file__: /home/<username>/.conda/envs/kk_monai/lib/python3.8/site-packages/monai/__init__.py\n",
      "\n",
      "Optional dependencies:\n",
      "Pytorch Ignite version: NOT INSTALLED or UNKNOWN VERSION.\n",
      "ITK version: NOT INSTALLED or UNKNOWN VERSION.\n",
      "Nibabel version: 5.1.0\n",
      "scikit-image version: 0.21.0\n",
      "scipy version: 1.10.1\n",
      "Pillow version: 10.0.0\n",
      "Tensorboard version: 2.13.0\n",
      "gdown version: NOT INSTALLED or UNKNOWN VERSION.\n",
      "TorchVision version: 0.15.2+cu117\n",
      "tqdm version: 4.66.1\n",
      "lmdb version: NOT INSTALLED or UNKNOWN VERSION.\n",
      "psutil version: 5.9.5\n",
      "pandas version: 2.0.3\n",
      "einops version: 0.6.1\n",
      "transformers version: NOT INSTALLED or UNKNOWN VERSION.\n",
      "mlflow version: NOT INSTALLED or UNKNOWN VERSION.\n",
      "pynrrd version: NOT INSTALLED or UNKNOWN VERSION.\n",
      "clearml version: NOT INSTALLED or UNKNOWN VERSION.\n",
      "\n",
      "For details about installing the optional dependencies, please visit:\n",
      "    https://docs.monai.io/en/latest/installation.html#installing-the-recommended-dependencies\n",
      "\n"
     ]
    }
   ],
   "source": [
    "import os\n",
    "import json\n",
    "import random\n",
    "import shutil\n",
    "import tempfile\n",
    "from monai.config import print_config\n",
    "from monai.apps import download_and_extract\n",
    "\n",
    "print_config()"
   ]
  },
  {
   "attachments": {},
   "cell_type": "markdown",
   "metadata": {
    "pycharm": {
     "name": "#%% md\n"
    }
   },
   "source": [
    "# Setup paths to your data"
   ]
  },
  {
   "attachments": {},
   "cell_type": "markdown",
   "metadata": {
    "pycharm": {
     "name": "#%% md\n"
    }
   },
   "source": [
    "# Download sample MSD Dataset"
   ]
  },
  {
   "attachments": {},
   "cell_type": "markdown",
   "metadata": {
    "pycharm": {
     "name": "#%% md\n"
    }
   },
   "source": [
    "# MSD dataset structure follows the following convention:"
   ]
  },
  {
   "cell_type": "code",
   "execution_count": 3,
   "metadata": {
    "pycharm": {
     "name": "#%%\n"
    }
   },
   "outputs": [
    {
     "name": "stdout",
     "output_type": "stream",
     "text": [
      "None\n",
      "/mnt/data/fkk/DATASET/nnUNetFrame/DATASET/nnUNet_raw/Dataset192_hek\n"
     ]
    }
   ],
   "source": [
    "data_path = \"/mnt/data/fkk/DATASET/nnUNetFrame/DATASET/nnUNet_raw/Dataset192_hek\"\n",
    "directory = os.environ.get(\"MONAI_DATA_DIRECTORY\")\n",
    "# print(data_path)\n",
    "print(directory)\n",
    "# root_dir = tempfile.mkdtemp() if directory is None else directory\n",
    "root_dir = data_path\n",
    "print(root_dir)\n",
    "\n",
    "dataroot = data_path\n",
    "msd_task = \"nn1000\"\n",
    "test_dir = os.path.join(dataroot, \"imagesTs/\")\n",
    "train_dir = os.path.join(dataroot, \"imagesTr/\")\n",
    "label_dir = os.path.join(dataroot, \"labelsTr/\")"
   ]
  },
  {
   "attachments": {},
   "cell_type": "markdown",
   "metadata": {
    "pycharm": {
     "name": "#%% md\n"
    }
   },
   "source": [
    "# Construct skeleton JSON to populate with your own data"
   ]
  },
  {
   "cell_type": "code",
   "execution_count": 4,
   "metadata": {
    "pycharm": {
     "name": "#%%\n"
    }
   },
   "outputs": [],
   "source": [
    "datalist_json = {\"testing\": [],  \"training\": []}"
   ]
  },
  {
   "attachments": {},
   "cell_type": "markdown",
   "metadata": {
    "pycharm": {
     "name": "#%% md\n"
    }
   },
   "source": [
    "# Populate JSON with test data"
   ]
  },
  {
   "cell_type": "code",
   "execution_count": 5,
   "metadata": {
    "pycharm": {
     "name": "#%%\n"
    }
   },
   "outputs": [],
   "source": [
    "testing_dir = os.path.join(data_path, \"imagesTs\")\n",
    "# testing_dir = R\"E:\\MICCAI2022data\\tutorials\\auto3dseg\\tasks\\hecktor22\\data\\imagesTs\"\n",
    "testing_files = [file for file in os.listdir(testing_dir) if \"_0000.nii.gz\" in file]\n",
    "testing_data = [\n",
    "    {\n",
    "        \"image\": os.path.join(\"imagesTs\", file).replace(\"\\\\\", \"/\"),\n",
    "        \"image2\": os.path.join(\"imagesTs\", file).replace(\"\\\\\", \"/\").replace(\"0000\",\"0001\"),\n",
    "        \"fold\": 0\n",
    "    }\n",
    "    for file in testing_files\n",
    "]\n",
    "datalist_json[\"testing\"] = testing_data\n"
   ]
  },
  {
   "attachments": {},
   "cell_type": "markdown",
   "metadata": {
    "pycharm": {
     "name": "#%% md\n"
    }
   },
   "source": [
    "# Visualise testing data"
   ]
  },
  {
   "cell_type": "code",
   "execution_count": 6,
   "metadata": {
    "pycharm": {
     "name": "#%%\n"
    }
   },
   "outputs": [
    {
     "data": {
      "text/plain": [
       "[]"
      ]
     },
     "execution_count": 6,
     "metadata": {},
     "output_type": "execute_result"
    }
   ],
   "source": [
    "datalist_json[\"testing\"][:10]"
   ]
  },
  {
   "attachments": {},
   "cell_type": "markdown",
   "metadata": {
    "pycharm": {
     "name": "#%% md\n"
    }
   },
   "source": [
    "# Populate with training images and labels in your directory"
   ]
  },
  {
   "cell_type": "code",
   "execution_count": 7,
   "metadata": {
    "pycharm": {
     "name": "#%%\n"
    }
   },
   "outputs": [],
   "source": [
    "training_dir = os.path.join(data_path, \"imagesTr\")\n",
    "training_files = [file for file in os.listdir(training_dir) if \"_0000.nii.gz\" in file]\n",
    "training_data = [\n",
    "    {\n",
    "        \"image\": os.path.join(\"imagesTr\", file).replace(\"\\\\\", \"/\"),\n",
    "        \"image2\": os.path.join(\"imagesTr\", file).replace(\"\\\\\", \"/\").replace(\"0000\",\"0001\"),\n",
    "        \"label\": os.path.join(\"labelsTr\", file).replace(\"\\\\\", \"/\").replace(\"_0000\", \"\"),\n",
    "        \"fold\": 0\n",
    "    }\n",
    "    for file in training_files\n",
    "]\n",
    "datalist_json[\"training\"] = training_data"
   ]
  },
  {
   "attachments": {},
   "cell_type": "markdown",
   "metadata": {
    "pycharm": {
     "name": "#%% md\n"
    }
   },
   "source": [
    "# Visualise training data"
   ]
  },
  {
   "cell_type": "code",
   "execution_count": 8,
   "metadata": {
    "pycharm": {
     "name": "#%%\n"
    }
   },
   "outputs": [
    {
     "data": {
      "text/plain": [
       "[{'image': 'imagesTr/HEK_0192_0000.nii.gz',\n",
       "  'image2': 'imagesTr/HEK_0192_0001.nii.gz',\n",
       "  'label': 'labelsTr/HEK_0192.nii.gz',\n",
       "  'fold': 0},\n",
       " {'image': 'imagesTr/HEK_0931_0000.nii.gz',\n",
       "  'image2': 'imagesTr/HEK_0931_0001.nii.gz',\n",
       "  'label': 'labelsTr/HEK_0931.nii.gz',\n",
       "  'fold': 0},\n",
       " {'image': 'imagesTr/HEK_0400_0000.nii.gz',\n",
       "  'image2': 'imagesTr/HEK_0400_0001.nii.gz',\n",
       "  'label': 'labelsTr/HEK_0400.nii.gz',\n",
       "  'fold': 0},\n",
       " {'image': 'imagesTr/HEK_0407_0000.nii.gz',\n",
       "  'image2': 'imagesTr/HEK_0407_0001.nii.gz',\n",
       "  'label': 'labelsTr/HEK_0407.nii.gz',\n",
       "  'fold': 0},\n",
       " {'image': 'imagesTr/HEK_0689_0000.nii.gz',\n",
       "  'image2': 'imagesTr/HEK_0689_0001.nii.gz',\n",
       "  'label': 'labelsTr/HEK_0689.nii.gz',\n",
       "  'fold': 0},\n",
       " {'image': 'imagesTr/HEK_0698_0000.nii.gz',\n",
       "  'image2': 'imagesTr/HEK_0698_0001.nii.gz',\n",
       "  'label': 'labelsTr/HEK_0698.nii.gz',\n",
       "  'fold': 0},\n",
       " {'image': 'imagesTr/HEK_0761_0000.nii.gz',\n",
       "  'image2': 'imagesTr/HEK_0761_0001.nii.gz',\n",
       "  'label': 'labelsTr/HEK_0761.nii.gz',\n",
       "  'fold': 0},\n",
       " {'image': 'imagesTr/HEK_1418_0000.nii.gz',\n",
       "  'image2': 'imagesTr/HEK_1418_0001.nii.gz',\n",
       "  'label': 'labelsTr/HEK_1418.nii.gz',\n",
       "  'fold': 0},\n",
       " {'image': 'imagesTr/HEK_1226_0000.nii.gz',\n",
       "  'image2': 'imagesTr/HEK_1226_0001.nii.gz',\n",
       "  'label': 'labelsTr/HEK_1226.nii.gz',\n",
       "  'fold': 0},\n",
       " {'image': 'imagesTr/HEK_0404_0000.nii.gz',\n",
       "  'image2': 'imagesTr/HEK_0404_0001.nii.gz',\n",
       "  'label': 'labelsTr/HEK_0404.nii.gz',\n",
       "  'fold': 0}]"
      ]
     },
     "execution_count": 8,
     "metadata": {},
     "output_type": "execute_result"
    }
   ],
   "source": [
    "datalist_json[\"training\"][:10]"
   ]
  },
  {
   "attachments": {},
   "cell_type": "markdown",
   "metadata": {
    "pycharm": {
     "name": "#%% md\n"
    }
   },
   "source": [
    "# Randomise training data\n"
   ]
  },
  {
   "cell_type": "code",
   "execution_count": 9,
   "metadata": {
    "pycharm": {
     "name": "#%%\n"
    }
   },
   "outputs": [
    {
     "data": {
      "text/plain": [
       "[{'image': 'imagesTr/HEK_0319_0000.nii.gz',\n",
       "  'image2': 'imagesTr/HEK_0319_0001.nii.gz',\n",
       "  'label': 'labelsTr/HEK_0319.nii.gz',\n",
       "  'fold': 0},\n",
       " {'image': 'imagesTr/HEK_1315_0000.nii.gz',\n",
       "  'image2': 'imagesTr/HEK_1315_0001.nii.gz',\n",
       "  'label': 'labelsTr/HEK_1315.nii.gz',\n",
       "  'fold': 0},\n",
       " {'image': 'imagesTr/HEK_0773_0000.nii.gz',\n",
       "  'image2': 'imagesTr/HEK_0773_0001.nii.gz',\n",
       "  'label': 'labelsTr/HEK_0773.nii.gz',\n",
       "  'fold': 0},\n",
       " {'image': 'imagesTr/HEK_0467_0000.nii.gz',\n",
       "  'image2': 'imagesTr/HEK_0467_0001.nii.gz',\n",
       "  'label': 'labelsTr/HEK_0467.nii.gz',\n",
       "  'fold': 0},\n",
       " {'image': 'imagesTr/HEK_0406_0000.nii.gz',\n",
       "  'image2': 'imagesTr/HEK_0406_0001.nii.gz',\n",
       "  'label': 'labelsTr/HEK_0406.nii.gz',\n",
       "  'fold': 0},\n",
       " {'image': 'imagesTr/HEK_1322_0000.nii.gz',\n",
       "  'image2': 'imagesTr/HEK_1322_0001.nii.gz',\n",
       "  'label': 'labelsTr/HEK_1322.nii.gz',\n",
       "  'fold': 0},\n",
       " {'image': 'imagesTr/HEK_1345_0000.nii.gz',\n",
       "  'image2': 'imagesTr/HEK_1345_0001.nii.gz',\n",
       "  'label': 'labelsTr/HEK_1345.nii.gz',\n",
       "  'fold': 0},\n",
       " {'image': 'imagesTr/HEK_1079_0000.nii.gz',\n",
       "  'image2': 'imagesTr/HEK_1079_0001.nii.gz',\n",
       "  'label': 'labelsTr/HEK_1079.nii.gz',\n",
       "  'fold': 0},\n",
       " {'image': 'imagesTr/HEK_0052_0000.nii.gz',\n",
       "  'image2': 'imagesTr/HEK_0052_0001.nii.gz',\n",
       "  'label': 'labelsTr/HEK_0052.nii.gz',\n",
       "  'fold': 0},\n",
       " {'image': 'imagesTr/HEK_0522_0000.nii.gz',\n",
       "  'image2': 'imagesTr/HEK_0522_0001.nii.gz',\n",
       "  'label': 'labelsTr/HEK_0522.nii.gz',\n",
       "  'fold': 0}]"
      ]
     },
     "execution_count": 9,
     "metadata": {},
     "output_type": "execute_result"
    }
   ],
   "source": [
    "random.seed(42)\n",
    "random.shuffle(datalist_json[\"training\"])\n",
    "datalist_json[\"training\"][:10]"
   ]
  },
  {
   "attachments": {},
   "cell_type": "markdown",
   "metadata": {
    "pycharm": {
     "name": "#%% md\n"
    }
   },
   "source": [
    "# Split training data into N random folds"
   ]
  },
  {
   "cell_type": "code",
   "execution_count": 10,
   "metadata": {
    "pycharm": {
     "name": "#%%\n"
    }
   },
   "outputs": [],
   "source": [
    "num_folds = 5\n",
    "fold_size = len(datalist_json[\"training\"]) // num_folds\n",
    "for i in range(num_folds):\n",
    "    for j in range(fold_size):\n",
    "        datalist_json[\"training\"][i * fold_size + j][\"fold\"] = i"
   ]
  },
  {
   "attachments": {},
   "cell_type": "markdown",
   "metadata": {
    "pycharm": {
     "name": "#%% md\n"
    }
   },
   "source": [
    "# Visualise final training data with all randomised folds"
   ]
  },
  {
   "cell_type": "code",
   "execution_count": 11,
   "metadata": {
    "pycharm": {
     "name": "#%%\n"
    }
   },
   "outputs": [
    {
     "data": {
      "text/plain": [
       "[{'image': 'imagesTr/HEK_0319_0000.nii.gz',\n",
       "  'image2': 'imagesTr/HEK_0319_0001.nii.gz',\n",
       "  'label': 'labelsTr/HEK_0319.nii.gz',\n",
       "  'fold': 0},\n",
       " {'image': 'imagesTr/HEK_1315_0000.nii.gz',\n",
       "  'image2': 'imagesTr/HEK_1315_0001.nii.gz',\n",
       "  'label': 'labelsTr/HEK_1315.nii.gz',\n",
       "  'fold': 0},\n",
       " {'image': 'imagesTr/HEK_0773_0000.nii.gz',\n",
       "  'image2': 'imagesTr/HEK_0773_0001.nii.gz',\n",
       "  'label': 'labelsTr/HEK_0773.nii.gz',\n",
       "  'fold': 0},\n",
       " {'image': 'imagesTr/HEK_0467_0000.nii.gz',\n",
       "  'image2': 'imagesTr/HEK_0467_0001.nii.gz',\n",
       "  'label': 'labelsTr/HEK_0467.nii.gz',\n",
       "  'fold': 0},\n",
       " {'image': 'imagesTr/HEK_0406_0000.nii.gz',\n",
       "  'image2': 'imagesTr/HEK_0406_0001.nii.gz',\n",
       "  'label': 'labelsTr/HEK_0406.nii.gz',\n",
       "  'fold': 0}]"
      ]
     },
     "execution_count": 11,
     "metadata": {},
     "output_type": "execute_result"
    }
   ],
   "source": [
    "datalist_json[\"training\"][:5]"
   ]
  },
  {
   "attachments": {},
   "cell_type": "markdown",
   "metadata": {
    "pycharm": {
     "name": "#%% md\n"
    }
   },
   "source": [
    "# Save JSON to file"
   ]
  },
  {
   "cell_type": "code",
   "execution_count": 12,
   "metadata": {
    "pycharm": {
     "name": "#%%\n"
    }
   },
   "outputs": [
    {
     "name": "stdout",
     "output_type": "stream",
     "text": [
      "Datalist is saved to nn1000_folds.json\n"
     ]
    }
   ],
   "source": [
    "datalist_file = msd_task.lower() + \"_folds.json\"\n",
    "with open(datalist_file, \"w\", encoding=\"utf-8\") as f:\n",
    "    json.dump(datalist_json, f, ensure_ascii=False, indent=4)\n",
    "print(f\"Datalist is saved to {datalist_file}\")"
   ]
  },
  {
   "attachments": {},
   "cell_type": "markdown",
   "metadata": {
    "pycharm": {
     "name": "#%% md\n"
    }
   },
   "source": [
    "# Cleanup temporary files"
   ]
  }
 ],
 "metadata": {
  "kernelspec": {
   "display_name": "kk_monai",
   "language": "python",
   "name": "kk_monai"
  },
  "language_info": {
   "codemirror_mode": {
    "name": "ipython",
    "version": 3
   },
   "file_extension": ".py",
   "mimetype": "text/x-python",
   "name": "python",
   "nbconvert_exporter": "python",
   "pygments_lexer": "ipython3",
   "version": "3.8.18"
  }
 },
 "nbformat": 4,
 "nbformat_minor": 1
}
